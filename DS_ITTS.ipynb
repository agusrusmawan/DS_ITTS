{
  "nbformat": 4,
  "nbformat_minor": 0,
  "metadata": {
    "colab": {
      "provenance": [],
      "authorship_tag": "ABX9TyNnEvzivgfTSJhPiwYo1fHx",
      "include_colab_link": true
    },
    "kernelspec": {
      "name": "python3",
      "display_name": "Python 3"
    },
    "language_info": {
      "name": "python"
    }
  },
  "cells": [
    {
      "cell_type": "markdown",
      "metadata": {
        "id": "view-in-github",
        "colab_type": "text"
      },
      "source": [
        "<a href=\"https://colab.research.google.com/github/agusrusmawan/DS_ITTS/blob/main/DS_ITTS.ipynb\" target=\"_parent\"><img src=\"https://colab.research.google.com/assets/colab-badge.svg\" alt=\"Open In Colab\"/></a>"
      ]
    },
    {
      "cell_type": "code",
      "execution_count": null,
      "metadata": {
        "id": "PuqF3Yj5ZWR4"
      },
      "outputs": [],
      "source": [
        "#paket atau library\n",
        "import pandas as pd\n",
        "import matplotlib.pyplot as plt\n",
        "import seaborn as sns\n"
      ]
    },
    {
      "cell_type": "code",
      "source": [
        "#upload data\n",
        "data = pd.read_csv(\"https://raw.githubusercontent.com/agusrusmawan/DS_ITTS/main/penjualan_mobil.csv\")\n"
      ],
      "metadata": {
        "id": "5PNHHv5PsbvY"
      },
      "execution_count": null,
      "outputs": []
    },
    {
      "cell_type": "code",
      "source": [
        "print(data)"
      ],
      "metadata": {
        "colab": {
          "base_uri": "https://localhost:8080/"
        },
        "id": "tiNEK9Yisb8H",
        "outputId": "015f9ca7-c4d8-4f40-e6ed-28e248deb8f1"
      },
      "execution_count": null,
      "outputs": [
        {
          "output_type": "stream",
          "name": "stdout",
          "text": [
            "  Merek Mobil  Type Mobil  Mobil Terjual            Harga      Bulan\n",
            "0       Honda        Brio              3  Rp. 100.000.000    Januari\n",
            "1      Toyota        Rush              2  Rp. 150.000.000   Februari\n",
            "2       Honda        City              1  Rp. 200.000.000      Maret\n",
            "3       Honda       Civiv              1  Rp. 150.000.000      April\n",
            "4      Toyota    Fortuner              2  Rp. 250.000.000        Mei\n",
            "5       Honda        CR-V              1  Rp. 200.000.000       Juni\n",
            "6      Toyota       Raize              3  Rp. 100.000.000       Juli\n",
            "7      Toyota      Corola              2  Rp. 150.000.000    Agustus\n",
            "8      Toyota      Corona              1  Rp. 100.000.000  September\n"
          ]
        }
      ]
    },
    {
      "cell_type": "code",
      "source": [
        "#mobil terbanyak\n",
        "mobil_terbanyak = data['Merek Mobil'].value_counts().idxmax()\n"
      ],
      "metadata": {
        "id": "npF0XxjascFQ"
      },
      "execution_count": null,
      "outputs": []
    },
    {
      "cell_type": "code",
      "source": [
        "print(mobil_terbanyak)"
      ],
      "metadata": {
        "colab": {
          "base_uri": "https://localhost:8080/"
        },
        "id": "3ue2do6LscQt",
        "outputId": "dbfd9290-b7bc-447f-ce9d-33fdf058c18c"
      },
      "execution_count": null,
      "outputs": [
        {
          "output_type": "stream",
          "name": "stdout",
          "text": [
            "Toyota\n"
          ]
        }
      ]
    },
    {
      "cell_type": "code",
      "source": [
        "#mobil tersedikit\n",
        "mobil_tersedikit = data['Merek Mobil'].value_counts().idxmin()"
      ],
      "metadata": {
        "id": "B9VdXJ-2uF2z"
      },
      "execution_count": null,
      "outputs": []
    },
    {
      "cell_type": "code",
      "source": [
        "print(mobil_tersedikit)"
      ],
      "metadata": {
        "colab": {
          "base_uri": "https://localhost:8080/"
        },
        "id": "75wORg2kuGAj",
        "outputId": "81c146d3-9cf3-4292-de37-ee481142451b"
      },
      "execution_count": null,
      "outputs": [
        {
          "output_type": "stream",
          "name": "stdout",
          "text": [
            "Honda\n"
          ]
        }
      ]
    },
    {
      "cell_type": "code",
      "source": [
        "#honda terbanyak\n",
        "honda_terbanyak = data[data['Merek Mobil'] == 'Honda'].value_counts().idxmax()\n"
      ],
      "metadata": {
        "id": "1uOxmpkFuGIM"
      },
      "execution_count": null,
      "outputs": []
    },
    {
      "cell_type": "code",
      "source": [
        "print(honda_terbanyak)"
      ],
      "metadata": {
        "colab": {
          "base_uri": "https://localhost:8080/"
        },
        "id": "IAQW4QEhuGL2",
        "outputId": "9ffad313-35ef-4720-cb2b-117e009e8c1a"
      },
      "execution_count": null,
      "outputs": [
        {
          "output_type": "stream",
          "name": "stdout",
          "text": [
            "('Honda', 'Brio', 3, 'Rp. 100.000.000', 'Januari')\n"
          ]
        }
      ]
    },
    {
      "cell_type": "code",
      "source": [
        "#toyota terbanyak\n",
        "toyota_terbanyak = data[data['Merek Mobil'] == 'Toyota'].value_counts().idxmax()"
      ],
      "metadata": {
        "id": "Od-U6p7WuGPf"
      },
      "execution_count": null,
      "outputs": []
    },
    {
      "cell_type": "code",
      "source": [
        "print(toyota_terbanyak)"
      ],
      "metadata": {
        "colab": {
          "base_uri": "https://localhost:8080/"
        },
        "id": "wXxYI1yVuGR7",
        "outputId": "4d017fac-f6ee-4d72-978e-8f69f9b3c151"
      },
      "execution_count": null,
      "outputs": [
        {
          "output_type": "stream",
          "name": "stdout",
          "text": [
            "('Toyota', 'Corola', 2, 'Rp. 150.000.000', 'Agustus')\n"
          ]
        }
      ]
    },
    {
      "cell_type": "code",
      "source": [
        "#perbulan\n",
        "bulan_terbanyak = data['Bulan'].value_counts().nlargest(10).index.tolist()"
      ],
      "metadata": {
        "id": "DG86VusNuGUe"
      },
      "execution_count": null,
      "outputs": []
    },
    {
      "cell_type": "code",
      "source": [
        "print(bulan_terbanyak)"
      ],
      "metadata": {
        "colab": {
          "base_uri": "https://localhost:8080/"
        },
        "id": "_hCO-G_yuGXV",
        "outputId": "ada21e5d-f17c-4c6d-a8ec-b6c14a19d1f2"
      },
      "execution_count": null,
      "outputs": [
        {
          "output_type": "stream",
          "name": "stdout",
          "text": [
            "['Januari', 'Februari', 'Maret', 'April', 'Mei', 'Juni', 'Juli', 'Agustus', 'September']\n"
          ]
        }
      ]
    },
    {
      "cell_type": "code",
      "source": [
        "data['Harga'] = data['Harga'].str.replace('[Rp.]', '', regex=True).str.replace('[.]', '', regex=True).astype(int)\n",
        "data['Pendapatan'] = data['Mobil Terjual'] * data['Harga']\n",
        "bulan_pendapatan_terbanyak = data.groupby('Bulan')['Pendapatan'].sum().idxmax()"
      ],
      "metadata": {
        "id": "MHtCuX_TuGaN"
      },
      "execution_count": null,
      "outputs": []
    },
    {
      "cell_type": "code",
      "source": [
        "print(\"Mobil dengan merek yang paling banyak terjual adalah:\", mobil_terbanyak)\n",
        "print(\"Mobil dengan merek yang paling sedikit terjual adalah:\", mobil_tersedikit)\n",
        "print(\"Mobil Honda dengan tipe yang paling banyak terjual adalah:\", honda_terbanyak)\n",
        "print(\"Mobil Toyota dengan tipe yang paling banyak terjual adalah:\", toyota_terbanyak)\n",
        "print(\"Bulan-bulan dengan penjualan mobil terbanyak:\", bulan_terbanyak)\n",
        "print(\"Bulan dengan pendapatan terbanyak adalah:\", bulan_pendapatan_terbanyak)"
      ],
      "metadata": {
        "colab": {
          "base_uri": "https://localhost:8080/"
        },
        "id": "BRwWreZauGc5",
        "outputId": "7f2b4986-1952-4ad1-fdc5-0b175cc7be7a"
      },
      "execution_count": null,
      "outputs": [
        {
          "output_type": "stream",
          "name": "stdout",
          "text": [
            "Mobil dengan merek yang paling banyak terjual adalah: Toyota\n",
            "Mobil dengan merek yang paling sedikit terjual adalah: Honda\n",
            "Mobil Honda dengan tipe yang paling banyak terjual adalah: ('Honda', 'Brio', 3, 'Rp. 100.000.000', 'Januari')\n",
            "Mobil Toyota dengan tipe yang paling banyak terjual adalah: ('Toyota', 'Corola', 2, 'Rp. 150.000.000', 'Agustus')\n",
            "Bulan-bulan dengan penjualan mobil terbanyak: ['Januari', 'Februari', 'Maret', 'April', 'Mei', 'Juni', 'Juli', 'Agustus', 'September']\n",
            "Bulan dengan pendapatan terbanyak adalah: Mei\n"
          ]
        }
      ]
    },
    {
      "cell_type": "code",
      "source": [
        "#paket atau library\n",
        "import pandas as pd\n",
        "import matplotlib.pyplot as plt\n",
        "import seaborn as sns"
      ],
      "metadata": {
        "id": "MMKv2gFXuGfq"
      },
      "execution_count": null,
      "outputs": []
    },
    {
      "cell_type": "code",
      "source": [
        "#upload data\n",
        "data = pd.read_csv(\"https://raw.githubusercontent.com/agusrusmawan/DS_ITTS/main/test1_mobil.csv\")"
      ],
      "metadata": {
        "id": "aZWi4hJK_zLf"
      },
      "execution_count": null,
      "outputs": []
    },
    {
      "cell_type": "code",
      "source": [
        "#penjualan terbanyak\n",
        "penjualan_terbanyak = data['Penjualan'].value_counts().idxmax()\n"
      ],
      "metadata": {
        "id": "ZXY5EnWs_zS1"
      },
      "execution_count": null,
      "outputs": []
    },
    {
      "cell_type": "code",
      "source": [
        "print(penjualan_terbanyak)\n"
      ],
      "metadata": {
        "colab": {
          "base_uri": "https://localhost:8080/"
        },
        "id": "4odIrCS-_zYq",
        "outputId": "567528c5-7e46-4b12-a31a-cecac3bc3733"
      },
      "execution_count": null,
      "outputs": [
        {
          "output_type": "stream",
          "name": "stdout",
          "text": [
            "73987\n"
          ]
        }
      ]
    },
    {
      "cell_type": "code",
      "source": [
        "#penjualan_sedikit\n",
        "penjualan_sedikit = data['Penjualan'].value_counts().idxmin()"
      ],
      "metadata": {
        "id": "wLHEsLkK_zbv"
      },
      "execution_count": null,
      "outputs": []
    },
    {
      "cell_type": "code",
      "source": [
        "print(penjualan_sedikit)"
      ],
      "metadata": {
        "colab": {
          "base_uri": "https://localhost:8080/"
        },
        "id": "h-gq9rr9_zer",
        "outputId": "9b062c4d-5fa7-47cf-e3ee-e6a0bfc09978"
      },
      "execution_count": null,
      "outputs": [
        {
          "output_type": "stream",
          "name": "stdout",
          "text": [
            "73987\n"
          ]
        }
      ]
    },
    {
      "cell_type": "code",
      "source": [
        "#perbulan\n",
        "bulan_terbanyak = data['Bulan'].value_counts().nlargest(10).index.tolist()"
      ],
      "metadata": {
        "id": "CDpRxYIM_zhT"
      },
      "execution_count": null,
      "outputs": []
    },
    {
      "cell_type": "code",
      "source": [
        "print(bulan_terbanyak)"
      ],
      "metadata": {
        "colab": {
          "base_uri": "https://localhost:8080/"
        },
        "id": "dSO9CjsW_zkA",
        "outputId": "5953144c-be96-46e3-ef0b-74fa47f4b502"
      },
      "execution_count": null,
      "outputs": [
        {
          "output_type": "stream",
          "name": "stdout",
          "text": [
            "['2011-01', '2018-11', '2019-01', '2019-02', '2019-03', '2019-04', '2019-05', '2019-06', '2019-07', '2019-08']\n"
          ]
        }
      ]
    },
    {
      "cell_type": "code",
      "source": [
        "bulan_pendapatan_terbanyak = data.groupby('Bulan')['Penjualan'].sum().idxmax()"
      ],
      "metadata": {
        "id": "NRaDhkza_zmq"
      },
      "execution_count": null,
      "outputs": []
    },
    {
      "cell_type": "code",
      "source": [
        "print(bulan_pendapatan_terbanyak)"
      ],
      "metadata": {
        "colab": {
          "base_uri": "https://localhost:8080/"
        },
        "id": "bVsuVCZW_zpg",
        "outputId": "57cfeb56-aeb1-4e74-d82f-1286823be668"
      },
      "execution_count": null,
      "outputs": [
        {
          "output_type": "stream",
          "name": "stdout",
          "text": [
            "2013-09\n"
          ]
        }
      ]
    },
    {
      "cell_type": "code",
      "source": [
        "df['Bulan'] = pd.to_datetime(df['Bulan'])\n",
        "plt.plot(df['Bulan'], df['Penjualan'])\n",
        "plt.xlabel('Bulan')\n",
        "plt.ylabel('Penjualan')\n",
        "plt.title('Trend Penjualan')\n",
        "plt.show()"
      ],
      "metadata": {
        "colab": {
          "base_uri": "https://localhost:8080/",
          "height": 472
        },
        "id": "4Sljdbw4_zsZ",
        "outputId": "3702ea48-517a-4f17-c12f-084c6f7dfc44"
      },
      "execution_count": null,
      "outputs": [
        {
          "output_type": "display_data",
          "data": {
            "text/plain": [
              "<Figure size 640x480 with 1 Axes>"
            ],
            "image/png": "[encoded data removed]"
          },
          "metadata": {}
        }
      ]
    },
    {
      "cell_type": "code",
      "source": [
        "#paket atau library\n",
        "import pandas as pd\n",
        "import matplotlib.pyplot as plt\n",
        "import seaborn as sns"
      ],
      "metadata": {
        "id": "lpSIU_cH_zvG"
      },
      "execution_count": null,
      "outputs": []
    },
    {
      "cell_type": "code",
      "source": [
        "#upload data\n",
        "data = pd.read_csv(\"https://raw.githubusercontent.com/agusrusmawan/DS_ITTS/main/kemiskinan.csv\")\n"
      ],
      "metadata": {
        "id": "aBIeZrVhA87U"
      },
      "execution_count": null,
      "outputs": []
    },
    {
      "cell_type": "code",
      "source": [
        "#kemiskinan terbanyak\n",
        "kemiskinan_terbanyak = data['Kemiskinan'].value_counts().idxmax()\n"
      ],
      "metadata": {
        "id": "En2AqmMTA8-I"
      },
      "execution_count": null,
      "outputs": []
    },
    {
      "cell_type": "code",
      "source": [
        "print(kemiskinan_terbanyak)\n"
      ],
      "metadata": {
        "colab": {
          "base_uri": "https://localhost:8080/"
        },
        "id": "nC514VblA9A3",
        "outputId": "e22265df-8e4f-4054-cb2a-4562954f22fb"
      },
      "execution_count": null,
      "outputs": [
        {
          "output_type": "stream",
          "name": "stdout",
          "text": [
            "15.43\n"
          ]
        }
      ]
    },
    {
      "cell_type": "code",
      "source": [
        "#kemiskinan terbanyak\n",
        "provinsi_terbanyak = data['Provinsi'].value_counts().idxmax()"
      ],
      "metadata": {
        "id": "-tmUBY-9A9Gh"
      },
      "execution_count": null,
      "outputs": []
    },
    {
      "cell_type": "code",
      "source": [
        "print(provinsi_terbanyak)"
      ],
      "metadata": {
        "colab": {
          "base_uri": "https://localhost:8080/"
        },
        "id": "NLPvz7YxA9Ju",
        "outputId": "e45e62d2-cef0-400c-9ec8-2579f37d4493"
      },
      "execution_count": null,
      "outputs": [
        {
          "output_type": "stream",
          "name": "stdout",
          "text": [
            "Aceh \n"
          ]
        }
      ]
    },
    {
      "cell_type": "code",
      "source": [
        "print(data.describe)"
      ],
      "metadata": {
        "colab": {
          "base_uri": "https://localhost:8080/"
        },
        "id": "PESYjSzzA9Mk",
        "outputId": "a06e6e7a-f91d-46b1-f259-0761554cd091"
      },
      "execution_count": null,
      "outputs": [
        {
          "output_type": "stream",
          "name": "stdout",
          "text": [
            "<bound method NDFrame.describe of                       Provinsi  Penduduk  PendudukN  Kemiskinan    IPM  \\\n",
            "0                        Aceh     833.91      2.841       15.43  71.99   \n",
            "1              Sumatera Utara    1356.72      4.742        9.14  71.77   \n",
            "2              Sumatera Barat     364.79      1.135        6.56  72.38   \n",
            "3                        Riau     491.22      1.595        7.04  72.71   \n",
            "4                       Jambi     288.10      0.856        7.97  71.29   \n",
            "5            Sumatera Selatan    1119.65      3.880       12.98  70.01   \n",
            "6                    Bengkulu     306.00      0.921       15.30  71.40   \n",
            "7                     Lampung    1091.14      3.777       12.76  69.69   \n",
            "8   Kepulauan Bangka Belitung      72.05      0.070        4.89  71.47   \n",
            "9              Kepulauan Riau     142.61      0.327        6.13  75.59   \n",
            "10                DKI Jakarta     496.84      1.615        4.69  80.77   \n",
            "11                 Jawa Barat    4188.52     15.041        8.43  72.09   \n",
            "12                Jawa Tengah    4119.93     14.792       11.84  71.87   \n",
            "13              DI Yogyakarta     503.14      1.638       12.80  79.97   \n",
            "14                 Jawa Timur    4585.97     16.486       11.46  71.71   \n",
            "15                     Banten     857.64      2.927        6.63  72.45   \n",
            "16                       Bali     196.92      0.524        4.45  75.50   \n",
            "17        Nusa Tenggara Barat     746.04      2.522       14.23  68.25   \n",
            "18        Nusa Tenggara Timur    1173.53      4.076       21.21  65.19   \n",
            "19           Kalimantan Barat     370.71      1.157        7.24  67.66   \n",
            "20          Kalimantan Tengah     141.78      0.324        5.26  71.05   \n",
            "21         Kalimantan Selatan     206.92      0.561        4.83  70.91   \n",
            "22           Kalimantan Timur     243.99      0.696        6.64  76.24   \n",
            "23           Kalimantan Utara      52.70      0.000        7.41  70.63   \n",
            "24             Sulawesi Utara     195.85      0.521        7.78  72.93   \n",
            "25            Sulawesi Tengah     403.74      1.277       13.06  69.55   \n",
            "26           Sulawesi Selatan     800.24      2.719        8.99  71.93   \n",
            "27          Sulawesi Tenggara     317.32      0.962       11.69  71.45   \n",
            "28                  Gorontalo     185.31      0.482       15.59  68.68   \n",
            "29             Sulawesi Barat     159.05      0.387       11.50  66.11   \n",
            "30                     Maluku     322.40      0.981       17.99  68.49   \n",
            "31               Maluku Utara      87.52      0.127        6.97  68.49   \n",
            "32                Papua Barat     215.22      0.591       21.70  65.09   \n",
            "33                      Papua     912.23      3.126       26.80  60.44   \n",
            "\n",
            "    UsiaProduktif    PLN  Kepadatan  Pengeluaran  PengeluaranN  KatMiskin  \n",
            "0           93.41  99.39         91      1080171        19.527          1  \n",
            "1           93.09  97.64        203      1124253        22.539          0  \n",
            "2           93.12  97.39        132      1235050        30.109          0  \n",
            "3           93.68  91.04         73      1340446        37.310          0  \n",
            "4           94.87  95.68         71      1126690        22.706          0  \n",
            "5           94.49  94.87         92      1022030        15.555          1  \n",
            "6           95.93  97.36        101      1140075        23.620          1  \n",
            "7           95.33  97.81        260       974424        12.302          1  \n",
            "8           94.75  98.98         89      1501844        48.338          0  \n",
            "9           89.66  95.85        252      1773521        66.899          0  \n",
            "10          89.05  99.99      15907      2257991       100.000          0  \n",
            "11          89.54  99.64       1365      1324960        36.252          0  \n",
            "12          93.52  99.85       1113      1018487        15.313          1  \n",
            "13          95.43  99.74       1171      1411972        42.197          1  \n",
            "14          94.16  99.47        851      1064382        18.449          1  \n",
            "15          89.36  99.39       1232      1517044        49.376          0  \n",
            "16          94.37  99.75        747      1509666        48.872          0  \n",
            "17          95.78  99.43        286      1089764        20.183          1  \n",
            "18          95.72  74.05        109       794361         0.000          1  \n",
            "19          94.19  86.48         37      1125063        22.595          0  \n",
            "20          95.42  85.73         17      1333318        36.823          0  \n",
            "21          95.26  98.04        105      1335457        36.969          0  \n",
            "22          93.13  95.46         29      1754195        65.579          0  \n",
            "23          95.03  93.36          9      1545689        51.333          0  \n",
            "24          92.63  99.27        189      1211839        28.523          0  \n",
            "25          96.23  92.79         48      1035777        16.494          1  \n",
            "26          93.69  97.10        194      1057864        18.003          0  \n",
            "27          95.42  95.47         69      1037799        16.632          1  \n",
            "28          95.72  97.34        104      1068282        18.715          1  \n",
            "29          96.68  87.80         85       893761         6.791          1  \n",
            "30          92.43  89.99         39      1083921        19.784          1  \n",
            "31          94.85  89.22         40      1092824        20.392          0  \n",
            "32          93.20  83.09         11      1395014        41.039          1  \n",
            "33          95.72  43.14         13      1309714        35.211          1  >\n"
          ]
        }
      ]
    },
    {
      "cell_type": "code",
      "source": [
        "total_penduduk = data['Penduduk'].sum()"
      ],
      "metadata": {
        "id": "OHMMk28CA9Pu"
      },
      "execution_count": null,
      "outputs": []
    },
    {
      "cell_type": "code",
      "source": [
        "print(total_penduduk)"
      ],
      "metadata": {
        "colab": {
          "base_uri": "https://localhost:8080/"
        },
        "id": "y84VZbMQA9Sk",
        "outputId": "e3f43cd9-7223-4cd6-d228-a4be54d8c87e"
      },
      "execution_count": null,
      "outputs": [
        {
          "output_type": "stream",
          "name": "stdout",
          "text": [
            "27549.7\n"
          ]
        }
      ]
    },
    {
      "cell_type": "code",
      "source": [
        "total_p = data.loc[data['Penduduk'].idxmax(), 'Provinsi']\n",
        "total_pend = data['Penduduk'].max()\n",
        "print(total_p)\n",
        "print(total_pend)"
      ],
      "metadata": {
        "colab": {
          "base_uri": "https://localhost:8080/"
        },
        "id": "E46NoiHLBuIn",
        "outputId": "a49b8aee-39d1-4a7a-fe4a-3281a3ed7e08"
      },
      "execution_count": null,
      "outputs": [
        {
          "output_type": "stream",
          "name": "stdout",
          "text": [
            "Jawa Timur \n",
            "4585.97\n"
          ]
        }
      ]
    },
    {
      "cell_type": "code",
      "source": [
        "plt.bar(data['Provinsi'], data['Penduduk'])\n",
        "plt.xlabel('Provinsi')\n",
        "plt.ylabel('Penduduk')\n",
        "plt.xticks(rotation=90)\n",
        "plt.show()"
      ],
      "metadata": {
        "colab": {
          "base_uri": "https://localhost:8080/",
          "height": 632
        },
        "id": "7FTfsu_7BuNJ",
        "outputId": "a488cc9a-18f7-4157-e92c-86f0683805c7"
      },
      "execution_count": null,
      "outputs": [
        {
          "output_type": "display_data",
          "data": {
            "text/plain": [
              "<Figure size 640x480 with 1 Axes>"
            ],
            "image/png": "[encoded data removed]"
          },
          "metadata": {}
        }
      ]
    }
  ]
}